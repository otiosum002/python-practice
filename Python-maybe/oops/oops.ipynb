{
 "cells": [
  {
   "cell_type": "code",
   "execution_count": null,
   "id": "09f47a99",
   "metadata": {},
   "outputs": [],
   "source": [
    "#classes \n",
    "class Dog:\n",
    "    def __init__(self, name, breed):\n",
    "        self.name = name\n",
    "        self.breed = breed\n",
    "\n",
    "    def bark(self):\n",
    "        print(f\"{self.name} says: Woof!\")\n",
    "\n",
    "# Creating an object\n",
    "my_dog = Dog(\"Buddy\", \"Golden Retriever\")\n",
    "my_dog.bark()\n"
   ]
  },
  {
   "cell_type": "code",
   "execution_count": null,
   "id": "6f6eb9c7",
   "metadata": {},
   "outputs": [],
   "source": [
    "# inheritance \n",
    "class Animal:\n",
    "    def speak(self):\n",
    "        print(\"This animal makes a sound.\")\n",
    "\n",
    "class Cat(Animal):\n",
    "    def speak(self):\n",
    "        print(\"Meow!\")\n",
    "\n",
    "my_cat = Cat()\n",
    "my_cat.speak()  # Overridden method\n"
   ]
  },
  {
   "cell_type": "code",
   "execution_count": null,
   "id": "b1b679ef",
   "metadata": {},
   "outputs": [],
   "source": [
    "# polymorphism\n",
    "class Bird:\n",
    "    def make_sound(self):\n",
    "        print(\"Tweet\")\n",
    "\n",
    "class Lion:\n",
    "    def make_sound(self):\n",
    "        print(\"Roar\")\n",
    "\n",
    "# Polymorphic behavior\n",
    "def animal_sound(animal):\n",
    "    animal.make_sound()\n",
    "\n",
    "bird = Bird()\n",
    "lion = Lion()\n",
    "\n",
    "animal_sound(bird)\n",
    "animal_sound(lion)\n"
   ]
  },
  {
   "cell_type": "code",
   "execution_count": null,
   "id": "8b42bc05",
   "metadata": {},
   "outputs": [],
   "source": [
    "# Encapsulation \n",
    "class BankAccount:\n",
    "    def __init__(self, balance):\n",
    "        self.__balance = balance  # Private variable\n",
    "\n",
    "    def deposit(self, amount):\n",
    "        self.__balance += amount\n",
    "\n",
    "    def get_balance(self):\n",
    "        return self.__balance\n",
    "\n",
    "account = BankAccount(100)\n",
    "account.deposit(50)\n",
    "print(\"Balance:\", account.get_balance())\n",
    "\n",
    "# print(account.__balance)  # This will raise an error\n"
   ]
  },
  {
   "cell_type": "code",
   "execution_count": null,
   "id": "336202aa",
   "metadata": {},
   "outputs": [],
   "source": [
    "# abstraction \n",
    "from abc import ABC, abstractmethod\n",
    "\n",
    "class Vehicle(ABC):\n",
    "    @abstractmethod\n",
    "    def start_engine(self):\n",
    "        pass\n",
    "\n",
    "class Car(Vehicle):\n",
    "    def start_engine(self):\n",
    "        print(\"Car engine started.\")\n",
    "\n",
    "my_car = Car()\n",
    "my_car.start_engine()\n"
   ]
  },
  {
   "cell_type": "code",
   "execution_count": 1,
   "id": "a74863eb",
   "metadata": {},
   "outputs": [
    {
     "name": "stdout",
     "output_type": "stream",
     "text": [
      "Point(1, 2)\n",
      "Point(4, 6)\n"
     ]
    }
   ],
   "source": [
    "# dunder method\n",
    "class Point:\n",
    "    def __init__(self, x, y):\n",
    "        self.x = x\n",
    "        self.y = y\n",
    "\n",
    "    def __str__(self):\n",
    "        return f\"Point({self.x}, {self.y})\"\n",
    "\n",
    "    def __add__(self, other):\n",
    "        return Point(self.x + other.x, self.y + other.y)\n",
    "\n",
    "p1 = Point(1, 2)\n",
    "p2 = Point(3, 4)\n",
    "print(p1)           \n",
    "print(p1 + p2)      \n"
   ]
  },
  {
   "cell_type": "code",
   "execution_count": 2,
   "id": "17b87919",
   "metadata": {},
   "outputs": [
    {
     "name": "stdout",
     "output_type": "stream",
     "text": [
      "Square of 5: 25\n",
      "Area of circle with radius 3: 28.274309999999996\n"
     ]
    }
   ],
   "source": [
    "#static method and class method\n",
    "class MathUtils:\n",
    "    pi = 3.14159\n",
    "\n",
    "    @staticmethod\n",
    "    def square(x):\n",
    "        return x * x\n",
    "\n",
    "    @classmethod\n",
    "    def circle_area(cls, radius):\n",
    "        return cls.pi * radius * radius\n",
    "\n",
    "print(\"Square of 5:\", MathUtils.square(5))\n",
    "print(\"Area of circle with radius 3:\", MathUtils.circle_area(3))\n"
   ]
  }
 ],
 "metadata": {
  "kernelspec": {
   "display_name": "Python 3",
   "language": "python",
   "name": "python3"
  },
  "language_info": {
   "codemirror_mode": {
    "name": "ipython",
    "version": 3
   },
   "file_extension": ".py",
   "mimetype": "text/x-python",
   "name": "python",
   "nbconvert_exporter": "python",
   "pygments_lexer": "ipython3",
   "version": "3.10.8"
  }
 },
 "nbformat": 4,
 "nbformat_minor": 5
}
