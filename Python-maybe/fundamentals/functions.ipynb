{
 "cells": [
  {
   "cell_type": "code",
   "execution_count": 1,
   "id": "ca079751",
   "metadata": {},
   "outputs": [
    {
     "name": "stdout",
     "output_type": "stream",
     "text": [
      "Animal: Dog, Name: Buddy\n",
      "Animal: Cat, Name: Whiskers\n",
      "Animal: Parrot, Name: Unknown\n"
     ]
    }
   ],
   "source": [
    "#function arguments\n",
    "def describe_pet(animal, name=\"Unknown\"):\n",
    "    print(f\"Animal: {animal}, Name: {name}\")\n",
    "\n",
    "# Positional\n",
    "describe_pet(\"Dog\", \"Buddy\")\n",
    "\n",
    "# Keyword\n",
    "describe_pet(name=\"Whiskers\", animal=\"Cat\")\n",
    "\n",
    "# Default\n",
    "describe_pet(\"Parrot\")\n"
   ]
  },
  {
   "cell_type": "code",
   "execution_count": 2,
   "id": "5576d830",
   "metadata": {},
   "outputs": [
    {
     "name": "stdout",
     "output_type": "stream",
     "text": [
      "Positional args: (1, 2, 3)\n",
      "Keyword args: {'name': 'Alice', 'age': 30}\n"
     ]
    }
   ],
   "source": [
    "# arbitrary arguments\n",
    "def print_args(*args):\n",
    "    print(\"Positional args:\", args)\n",
    "\n",
    "def print_kwargs(**kwargs):\n",
    "    print(\"Keyword args:\", kwargs)\n",
    "\n",
    "print_args(1, 2, 3)\n",
    "print_kwargs(name=\"Alice\", age=30)\n",
    "\n",
    "# usually used for taking input in the terminal itself\n"
   ]
  },
  {
   "cell_type": "code",
   "execution_count": 3,
   "id": "5888c26e",
   "metadata": {},
   "outputs": [
    {
     "name": "stdout",
     "output_type": "stream",
     "text": [
      "Returned value: 8\n"
     ]
    }
   ],
   "source": [
    "# returning values\n",
    "def add(a, b):\n",
    "    return a + b\n",
    "\n",
    "result = add(5, 3)\n",
    "print(\"Returned value:\", result)\n"
   ]
  },
  {
   "cell_type": "code",
   "execution_count": 4,
   "id": "a99166f8",
   "metadata": {},
   "outputs": [
    {
     "name": "stdout",
     "output_type": "stream",
     "text": [
      "Inside function: local\n",
      "Outside function: global\n"
     ]
    }
   ],
   "source": [
    "# variable scope\n",
    "x = \"global\"\n",
    "\n",
    "def scope_test():\n",
    "    x = \"local\"\n",
    "    print(\"Inside function:\", x)\n",
    "\n",
    "scope_test()\n",
    "print(\"Outside function:\", x)\n"
   ]
  },
  {
   "cell_type": "code",
   "execution_count": 5,
   "id": "bb734e4c",
   "metadata": {},
   "outputs": [
    {
     "name": "stdout",
     "output_type": "stream",
     "text": [
      "Value of y before modification: 10\n",
      "Modified inside: 20\n",
      "Global after modification: 20\n"
     ]
    }
   ],
   "source": [
    "# using global\n",
    "y = 10\n",
    "\n",
    "print(\"Value of y before modification:\", y)\n",
    "\n",
    "def modify_global():\n",
    "    global y\n",
    "    y = 20\n",
    "    print(\"Modified inside:\", y)\n",
    "\n",
    "modify_global()\n",
    "print(\"Global after modification:\", y)\n"
   ]
  },
  {
   "cell_type": "code",
   "execution_count": 6,
   "id": "8749ee03",
   "metadata": {},
   "outputs": [
    {
     "name": "stdout",
     "output_type": "stream",
     "text": [
      "Lambda result: 7\n",
      "Sorted by length: ['Bob', 'Alice', 'Charlie']\n",
      "[1, 4, 9, 16]\n"
     ]
    }
   ],
   "source": [
    "# lambda functions\n",
    "add = lambda a, b: a + b\n",
    "print(\"Lambda result:\", add(3, 4))\n",
    "\n",
    "# Sorting with lambda\n",
    "names = [\"Charlie\", \"Alice\", \"Bob\"]\n",
    "names.sort(key=lambda name: len(name))\n",
    "print(\"Sorted by length:\", names)\n",
    "\n",
    "nums = [1, 2, 3, 4]\n",
    "squared = list(map(lambda x: x**2, nums))\n",
    "print(squared)  \n"
   ]
  },
  {
   "cell_type": "code",
   "execution_count": 7,
   "id": "733a5ed8",
   "metadata": {},
   "outputs": [
    {
     "name": "stdout",
     "output_type": "stream",
     "text": [
      "HELLO\n",
      "hello\n"
     ]
    }
   ],
   "source": [
    "# first class functions\n",
    "def shout(text):\n",
    "    return text.upper()\n",
    "\n",
    "def whisper(text):\n",
    "    return text.lower()\n",
    "\n",
    "def greet(func):\n",
    "    print(func(\"Hello\"))\n",
    "\n",
    "greet(shout)\n",
    "greet(whisper)\n"
   ]
  },
  {
   "cell_type": "code",
   "execution_count": null,
   "id": "0ab2edfb",
   "metadata": {},
   "outputs": [],
   "source": []
  }
 ],
 "metadata": {
  "kernelspec": {
   "display_name": "Python 3",
   "language": "python",
   "name": "python3"
  },
  "language_info": {
   "codemirror_mode": {
    "name": "ipython",
    "version": 3
   },
   "file_extension": ".py",
   "mimetype": "text/x-python",
   "name": "python",
   "nbconvert_exporter": "python",
   "pygments_lexer": "ipython3",
   "version": "3.10.8"
  }
 },
 "nbformat": 4,
 "nbformat_minor": 5
}
