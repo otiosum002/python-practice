{
 "cells": [
  {
   "cell_type": "code",
   "execution_count": 1,
   "id": "ed5ba550",
   "metadata": {},
   "outputs": [
    {
     "name": "stdout",
     "output_type": "stream",
     "text": [
      "Integer: 10 <class 'int'>\n",
      "Float: 3.14 <class 'float'>\n",
      "Complex: (2+3j) <class 'complex'>\n"
     ]
    }
   ],
   "source": [
    "# Integer\n",
    "a = 10\n",
    "print(\"Integer:\", a, type(a))\n",
    "\n",
    "# Float\n",
    "b = 3.14\n",
    "print(\"Float:\", b, type(b))\n",
    "\n",
    "# Complex\n",
    "c = 2 + 3j\n",
    "print(\"Complex:\", c, type(c))\n"
   ]
  },
  {
   "cell_type": "code",
   "execution_count": null,
   "id": "f2baa657",
   "metadata": {},
   "outputs": [
    {
     "name": "stdout",
     "output_type": "stream",
     "text": [
      "Original: Hello, World\n",
      "Uppercase: HELLO, WORLD\n",
      "Lowercase: hello, world\n",
      "Split: ['Hello', ' World']\n",
      "Replace 'World' with 'bankai': Hello, Bankai\n",
      "Slice [0:5]: Hello\n"
     ]
    }
   ],
   "source": [
    "# String and string manipulation\n",
    "s = \"Hello, World\"\n",
    "\n",
    "print(\"Original:\", s)\n",
    "print(\"Uppercase:\", s.upper())\n",
    "print(\"Lowercase:\", s.lower())\n",
    "print(\"Split:\", s.split(\",\"))\n",
    "print(\"Replace 'World' with 'bankai':\", s.replace(\"World\", \"Bankai\"))\n",
    "print(\"Slice [0:5]:\", s[0:5])\n"
   ]
  },
  {
   "cell_type": "code",
   "execution_count": 5,
   "id": "9434821c",
   "metadata": {},
   "outputs": [
    {
     "name": "stdout",
     "output_type": "stream",
     "text": [
      "List: [1, 2, 3, 4, 5, 6]\n",
      "Element at index 2: 3\n"
     ]
    }
   ],
   "source": [
    "# lists\n",
    "my_list = [1, 2, 3, 4, 5]\n",
    "my_list.append(6)\n",
    "print(\"List:\", my_list)\n",
    "print(\"Element at index 2:\", my_list[2])\n"
   ]
  },
  {
   "cell_type": "code",
   "execution_count": null,
   "id": "94a8ca9a",
   "metadata": {},
   "outputs": [
    {
     "name": "stdout",
     "output_type": "stream",
     "text": [
      "Tuple: (10, 20, 30)\n",
      "Element at index 1: 20\n"
     ]
    }
   ],
   "source": [
    "# tuples \n",
    "my_tuple = (10, 20, 30)\n",
    "print(\"Tuple:\", my_tuple)\n",
    "print(\"Element at index 1:\", my_tuple[1])\n"
   ]
  },
  {
   "cell_type": "code",
   "execution_count": 7,
   "id": "f904ef78",
   "metadata": {},
   "outputs": [
    {
     "name": "stdout",
     "output_type": "stream",
     "text": [
      "Set (no duplicates): {1, 2, 3, 4, 5}\n"
     ]
    }
   ],
   "source": [
    "# sets\n",
    "my_set = {1, 2, 3, 3, 4}\n",
    "my_set.add(5)\n",
    "print(\"Set (no duplicates):\", my_set)\n"
   ]
  },
  {
   "cell_type": "code",
   "execution_count": 8,
   "id": "9b6d032b",
   "metadata": {},
   "outputs": [
    {
     "name": "stdout",
     "output_type": "stream",
     "text": [
      "Dictionary: {'name': 'Alice', 'age': 30, 'city': 'New York'}\n",
      "Name: Alice\n"
     ]
    }
   ],
   "source": [
    "# dictionaries\n",
    "my_dict = {\"name\": \"Alice\", \"age\": 30}\n",
    "my_dict[\"city\"] = \"New York\"\n",
    "print(\"Dictionary:\", my_dict)\n",
    "print(\"Name:\", my_dict[\"name\"])\n"
   ]
  },
  {
   "cell_type": "code",
   "execution_count": null,
   "id": "f782dc24",
   "metadata": {},
   "outputs": [
    {
     "name": "stdout",
     "output_type": "stream",
     "text": [
      "Result of 5 + 2.0: 7.0 <class 'float'>\n",
      "int to float: 7.0\n",
      "float to int: 3\n",
      "str to int: 100\n",
      "int to str: 200\n"
     ]
    }
   ],
   "source": [
    "# type convesion and casting \n",
    "# Implicit conversion\n",
    "x = 5\n",
    "y = 2.0\n",
    "z = x + y\n",
    "print(\"Result of 5 + 2.0:\", z, type(z))\n",
    "\n",
    "# Explicit conversion\n",
    "a = float(7)        \n",
    "b = int(3.99)        # float to int (rounds down)\n",
    "c = int(\"100\")      \n",
    "d = str(200)         \n",
    "\n",
    "print(\"int to float:\", a)\n",
    "print(\"float to int:\", b)\n",
    "print(\"str to int:\", c)\n",
    "print(\"int to str:\", d)\n"
   ]
  }
 ],
 "metadata": {
  "kernelspec": {
   "display_name": "Python 3",
   "language": "python",
   "name": "python3"
  },
  "language_info": {
   "codemirror_mode": {
    "name": "ipython",
    "version": 3
   },
   "file_extension": ".py",
   "mimetype": "text/x-python",
   "name": "python",
   "nbconvert_exporter": "python",
   "pygments_lexer": "ipython3",
   "version": "3.10.8"
  }
 },
 "nbformat": 4,
 "nbformat_minor": 5
}
