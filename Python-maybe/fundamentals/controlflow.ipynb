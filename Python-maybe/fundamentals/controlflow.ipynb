{
 "cells": [
  {
   "cell_type": "code",
   "execution_count": null,
   "id": "2425b5a2",
   "metadata": {},
   "outputs": [],
   "source": [
    "# conditional statement\n",
    "x = 15\n",
    "\n",
    "if x < 10:\n",
    "    print(\"x is less than 10\")\n",
    "elif x == 10:\n",
    "    print(\"x is exactly 10\")\n",
    "else:\n",
    "    print(\"x is greater than 10\")\n"
   ]
  },
  {
   "cell_type": "code",
   "execution_count": 1,
   "id": "ae4b6ed6",
   "metadata": {},
   "outputs": [
    {
     "name": "stdout",
     "output_type": "stream",
     "text": [
      "1\n",
      "2\n",
      "3\n",
      "4\n",
      "5\n"
     ]
    }
   ],
   "source": [
    "# for loop\n",
    "for i in range(1, 6):\n",
    "    print(i)\n"
   ]
  },
  {
   "cell_type": "code",
   "execution_count": null,
   "id": "f9a54573",
   "metadata": {},
   "outputs": [],
   "source": [
    "# while loop\n",
    "count = 0\n",
    "while count < 5:\n",
    "    print(count)\n",
    "    count += 1"
   ]
  },
  {
   "cell_type": "code",
   "execution_count": 2,
   "id": "f59fb54b",
   "metadata": {},
   "outputs": [
    {
     "name": "stdout",
     "output_type": "stream",
     "text": [
      "Using next() on iterator:\n",
      "10\n",
      "20\n",
      "30\n"
     ]
    }
   ],
   "source": [
    "# iterators and iterables \n",
    "# List is iterable\n",
    "my_list = [10, 20, 30]\n",
    "\n",
    "# Create an iterator from the list\n",
    "my_iter = iter(my_list)\n",
    "\n",
    "print(\"Using next() on iterator:\")\n",
    "print(next(my_iter))\n",
    "print(next(my_iter))\n",
    "print(next(my_iter))\n"
   ]
  },
  {
   "cell_type": "code",
   "execution_count": null,
   "id": "9a7e06d2",
   "metadata": {},
   "outputs": [],
   "source": [
    "# break statement\n",
    "for i in range(1, 6):\n",
    "    if i == 3:\n",
    "        print(\"Breaking at\", i)\n",
    "        break\n",
    "    print(\"Current number:\", i)\n"
   ]
  },
  {
   "cell_type": "code",
   "execution_count": null,
   "id": "544064f2",
   "metadata": {},
   "outputs": [],
   "source": [
    "# continue statement\n",
    "for i in range(1, 6):\n",
    "    if i == 3:\n",
    "        print(\"Skipping\", i)\n",
    "        continue\n",
    "    print(\"Current number:\", i)\n"
   ]
  },
  {
   "cell_type": "code",
   "execution_count": null,
   "id": "2b3b0d6c",
   "metadata": {},
   "outputs": [],
   "source": [
    "# else with loops\n",
    "# else runs if loop completes without break\n",
    "for i in range(5):\n",
    "    print(i)\n",
    "else:\n",
    "    print(\"Loop completed without break\")\n",
    "\n",
    "# else does not run if loop is broken\n",
    "for i in range(5):\n",
    "    if i == 3:\n",
    "        print(\"Breaking early at\", i)\n",
    "        break\n",
    "    print(i)\n",
    "else:\n",
    "    print(\"This will not print because of break\")\n"
   ]
  }
 ],
 "metadata": {
  "kernelspec": {
   "display_name": "Python 3",
   "language": "python",
   "name": "python3"
  },
  "language_info": {
   "codemirror_mode": {
    "name": "ipython",
    "version": 3
   },
   "file_extension": ".py",
   "mimetype": "text/x-python",
   "name": "python",
   "nbconvert_exporter": "python",
   "pygments_lexer": "ipython3",
   "version": "3.10.8"
  }
 },
 "nbformat": 4,
 "nbformat_minor": 5
}
