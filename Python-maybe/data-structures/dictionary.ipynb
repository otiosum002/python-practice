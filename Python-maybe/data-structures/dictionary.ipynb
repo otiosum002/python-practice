{
 "cells": [
  {
   "cell_type": "code",
   "execution_count": 1,
   "id": "20676ee5",
   "metadata": {},
   "outputs": [
    {
     "name": "stdout",
     "output_type": "stream",
     "text": [
      "Name: Alice\n",
      "City: New York\n"
     ]
    }
   ],
   "source": [
    "person = {\n",
    "    \"name\": \"Alice\",\n",
    "    \"age\": 30,\n",
    "    \"city\": \"New York\"\n",
    "}\n",
    "\n",
    "print(\"Name:\", person[\"name\"])\n",
    "print(\"City:\", person.get(\"city\"))\n"
   ]
  },
  {
   "cell_type": "code",
   "execution_count": 2,
   "id": "a29ef7b8",
   "metadata": {},
   "outputs": [
    {
     "name": "stdout",
     "output_type": "stream",
     "text": [
      "Keys: dict_keys(['name', 'city', 'job'])\n",
      "Values: dict_values(['Alice', 'New York', 'Engineer'])\n",
      "Items: dict_items([('name', 'Alice'), ('city', 'New York'), ('job', 'Engineer')])\n",
      "Does 'name' exist? True\n"
     ]
    }
   ],
   "source": [
    "# Add or update key-value pair\n",
    "person[\"job\"] = \"Engineer\"\n",
    "\n",
    "# Remove a key\n",
    "removed_value = person.pop(\"age\")\n",
    "\n",
    "# Get keys, values, items\n",
    "print(\"Keys:\", person.keys())\n",
    "print(\"Values:\", person.values())\n",
    "print(\"Items:\", person.items())\n",
    "\n",
    "# Check existence\n",
    "print(\"Does 'name' exist?\", \"name\" in person)\n",
    "\n",
    "# Clear all items\n",
    "# person.clear()\n"
   ]
  },
  {
   "cell_type": "code",
   "execution_count": 3,
   "id": "8833fcaf",
   "metadata": {},
   "outputs": [
    {
     "name": "stdout",
     "output_type": "stream",
     "text": [
      "Student1 name: Alice\n",
      "student1 - Name: Alice, Grade: 90\n",
      "student2 - Name: Bob, Grade: 85\n"
     ]
    }
   ],
   "source": [
    "students = {\n",
    "    \"student1\": {\"name\": \"Alice\", \"grade\": 90},\n",
    "    \"student2\": {\"name\": \"Bob\", \"grade\": 85}\n",
    "}\n",
    "\n",
    "# Access nested values\n",
    "print(\"Student1 name:\", students[\"student1\"][\"name\"])\n",
    "\n",
    "# Loop through nested dictionary\n",
    "for student_id, info in students.items():\n",
    "    print(f\"{student_id} - Name: {info['name']}, Grade: {info['grade']}\")\n"
   ]
  },
  {
   "cell_type": "code",
   "execution_count": 4,
   "id": "f08c845a",
   "metadata": {},
   "outputs": [
    {
     "name": "stdout",
     "output_type": "stream",
     "text": [
      "Squares dict: {0: 0, 1: 1, 2: 4, 3: 9, 4: 16}\n",
      "Inverted dict: {1: 'a', 2: 'b', 3: 'c'}\n",
      "Filtered dict (even values): {0: 0, 2: 4, 4: 16}\n"
     ]
    }
   ],
   "source": [
    "# Create dictionary of squares\n",
    "squares = {x: x**2 for x in range(5)}\n",
    "print(\"Squares dict:\", squares)\n",
    "\n",
    "# Invert a dictionary\n",
    "original = {\"a\": 1, \"b\": 2, \"c\": 3}\n",
    "inverted = {v: k for k, v in original.items()}\n",
    "print(\"Inverted dict:\", inverted)\n",
    "\n",
    "# Filter dict (only even values)\n",
    "filtered = {k: v for k, v in squares.items() if v % 2 == 0}\n",
    "print(\"Filtered dict (even values):\", filtered)\n"
   ]
  },
  {
   "cell_type": "code",
   "execution_count": null,
   "id": "4ac94726",
   "metadata": {},
   "outputs": [],
   "source": []
  }
 ],
 "metadata": {
  "kernelspec": {
   "display_name": "Python 3",
   "language": "python",
   "name": "python3"
  },
  "language_info": {
   "codemirror_mode": {
    "name": "ipython",
    "version": 3
   },
   "file_extension": ".py",
   "mimetype": "text/x-python",
   "name": "python",
   "nbconvert_exporter": "python",
   "pygments_lexer": "ipython3",
   "version": "3.10.8"
  }
 },
 "nbformat": 4,
 "nbformat_minor": 5
}
