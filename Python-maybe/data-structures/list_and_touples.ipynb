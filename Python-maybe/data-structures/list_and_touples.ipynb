{
 "cells": [
  {
   "cell_type": "code",
   "execution_count": null,
   "id": "b5d0a1fe",
   "metadata": {},
   "outputs": [
    {
     "name": "stdout",
     "output_type": "stream",
     "text": [
      "List: ['apple', 'orange', 'cherry']\n",
      "Tuple: (10, 20)\n"
     ]
    }
   ],
   "source": [
    "# List (mutable)\n",
    "fruits = [\"apple\", \"banana\", \"cherry\"]\n",
    "fruits[1] = \"orange\"\n",
    "print(\"List:\", fruits)\n",
    "\n",
    "# Tuple (immutable)\n",
    "coordinates = (10, 20)\n",
    "# coordinates[0] = 15   ->This would raise a TypeError\n",
    "print(\"Tuple:\", coordinates)\n"
   ]
  },
  {
   "cell_type": "code",
   "execution_count": null,
   "id": "be38972c",
   "metadata": {},
   "outputs": [
    {
     "name": "stdout",
     "output_type": "stream",
     "text": [
      "Modified List: [1, 3, 4, 5, 6]\n",
      "Concatenated Tuple: (1, 2, 3, 4)\n"
     ]
    }
   ],
   "source": [
    "# List operations\n",
    "numbers = [1, 2, 3]\n",
    "numbers.append(4)\n",
    "numbers.remove(2)\n",
    "numbers.extend([5, 6])\n",
    "print(\"Modified List:\", numbers)\n",
    "\n",
    "# Tuple operations (can't modify directly, but can create a new one)\n",
    "t1 = (1, 2)\n",
    "t2 = (3, 4)\n",
    "t3 = t1 + t2\n",
    "print(\"Concatenated Tuple:\", t3)\n"
   ]
  },
  {
   "cell_type": "code",
   "execution_count": 3,
   "id": "6ea7abc9",
   "metadata": {},
   "outputs": [
    {
     "name": "stdout",
     "output_type": "stream",
     "text": [
      "Squares: [0, 1, 4, 9, 16]\n",
      "Even numbers: [0, 2, 4, 6, 8]\n"
     ]
    }
   ],
   "source": [
    "# Square of numbers from 0 to 4\n",
    "squares = [x**2 for x in range(5)]\n",
    "print(\"Squares:\", squares)\n",
    "\n",
    "# Filter even numbers\n",
    "evens = [x for x in range(10) if x % 2 == 0]\n",
    "print(\"Even numbers:\", evens)\n"
   ]
  },
  {
   "cell_type": "code",
   "execution_count": 4,
   "id": "8bf08ef4",
   "metadata": {},
   "outputs": [
    {
     "name": "stdout",
     "output_type": "stream",
     "text": [
      "Element at row 2, col 3: 6\n",
      "1 2 3 \n",
      "4 5 6 \n",
      "7 8 9 \n"
     ]
    }
   ],
   "source": [
    "matrix = [\n",
    "    [1, 2, 3],\n",
    "    [4, 5, 6],\n",
    "    [7, 8, 9]\n",
    "]\n",
    "\n",
    "# Accessing an element\n",
    "print(\"Element at row 2, col 3:\", matrix[1][2])  # 6\n",
    "\n",
    "# Loop through a nested list\n",
    "for row in matrix:\n",
    "    for value in row:\n",
    "        print(value, end=\" \")\n",
    "    print()\n"
   ]
  },
  {
   "cell_type": "code",
   "execution_count": 5,
   "id": "e387b398",
   "metadata": {},
   "outputs": [
    {
     "name": "stdout",
     "output_type": "stream",
     "text": [
      "Packed tuple: (1, 'hello', 3.14)\n",
      "Unpacked: 1 hello 3.14\n",
      "First: 1 | Middle: [2, 3, 4] | Last: 5\n"
     ]
    }
   ],
   "source": [
    "# Packing\n",
    "packed = 1, \"hello\", 3.14\n",
    "print(\"Packed tuple:\", packed)\n",
    "\n",
    "# Unpacking\n",
    "a, b, c = packed\n",
    "print(\"Unpacked:\", a, b, c)\n",
    "\n",
    "# Partial unpacking with *\n",
    "first, *middle, last = (1, 2, 3, 4, 5)\n",
    "print(\"First:\", first, \"| Middle:\", middle, \"| Last:\", last)\n"
   ]
  },
  {
   "cell_type": "code",
   "execution_count": null,
   "id": "6231289c",
   "metadata": {},
   "outputs": [],
   "source": []
  }
 ],
 "metadata": {
  "kernelspec": {
   "display_name": "Python 3",
   "language": "python",
   "name": "python3"
  },
  "language_info": {
   "codemirror_mode": {
    "name": "ipython",
    "version": 3
   },
   "file_extension": ".py",
   "mimetype": "text/x-python",
   "name": "python",
   "nbconvert_exporter": "python",
   "pygments_lexer": "ipython3",
   "version": "3.10.8"
  }
 },
 "nbformat": 4,
 "nbformat_minor": 5
}
