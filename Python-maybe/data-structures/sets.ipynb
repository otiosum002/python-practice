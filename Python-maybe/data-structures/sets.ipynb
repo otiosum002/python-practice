{
 "cells": [
  {
   "cell_type": "code",
   "execution_count": 1,
   "id": "42db883e",
   "metadata": {},
   "outputs": [
    {
     "name": "stdout",
     "output_type": "stream",
     "text": [
      "Set: {1, 2, 3, 4}\n",
      "True\n"
     ]
    }
   ],
   "source": [
    "# Sets automatically remove duplicates\n",
    "my_set = {1, 2, 2, 3, 4}\n",
    "print(\"Set:\", my_set)\n",
    "\n",
    "# Add an element\n",
    "my_set.add(5)\n",
    "\n",
    "# Remove an element (KeyError if not found)\n",
    "my_set.remove(2)\n",
    "\n",
    "# Discard (safe remove - no error if not found)\n",
    "my_set.discard(10)\n",
    "\n",
    "# Check membership\n",
    "print(3 in my_set)\n"
   ]
  },
  {
   "cell_type": "code",
   "execution_count": 2,
   "id": "c9993eed",
   "metadata": {},
   "outputs": [
    {
     "name": "stdout",
     "output_type": "stream",
     "text": [
      "Union: {1, 2, 3, 4, 5, 6}\n",
      "Intersection: {3, 4}\n",
      "Difference (a - b): {1, 2}\n",
      "Symmetric Difference: {1, 2, 5, 6}\n"
     ]
    }
   ],
   "source": [
    "a = {1, 2, 3, 4}\n",
    "b = {3, 4, 5, 6}\n",
    "\n",
    "# Union\n",
    "print(\"Union:\", a | b)\n",
    "\n",
    "# Intersection\n",
    "print(\"Intersection:\", a & b)\n",
    "\n",
    "# Difference\n",
    "print(\"Difference (a - b):\", a - b)\n",
    "\n",
    "# Symmetric difference (elements in either but not both)\n",
    "print(\"Symmetric Difference:\", a ^ b)\n"
   ]
  },
  {
   "cell_type": "code",
   "execution_count": 3,
   "id": "901ac096",
   "metadata": {},
   "outputs": [
    {
     "name": "stdout",
     "output_type": "stream",
     "text": [
      "Even squares set: {0, 64, 4, 36, 16}\n",
      "Unique letters: {'n', 'a', 'b'}\n"
     ]
    }
   ],
   "source": [
    "# Squares of even numbers from 0 to 9\n",
    "even_squares = {x**2 for x in range(10) if x % 2 == 0}\n",
    "print(\"Even squares set:\", even_squares)\n",
    "\n",
    "# Unique letters in a word\n",
    "unique_letters = {char for char in \"banana\"}\n",
    "print(\"Unique letters:\", unique_letters)\n"
   ]
  },
  {
   "cell_type": "code",
   "execution_count": null,
   "id": "2e734da8",
   "metadata": {},
   "outputs": [
    {
     "name": "stdout",
     "output_type": "stream",
     "text": [
      "Frozen Union: frozenset({1, 2, 3, 4, 5, 6})\n",
      "Frozen Intersection: frozenset({3, 4})\n"
     ]
    }
   ],
   "source": [
    "a = frozenset([1, 2, 3, 4])\n",
    "b = frozenset([3, 4, 5, 6])\n",
    "\n",
    "# Like regular sets, but immutable\n",
    "print(\"Frozen Union:\", a | b)\n",
    "print(\"Frozen Intersection:\", a & b)\n",
    "\n",
    "# You can't modify frozensets\n",
    "# a.add(5)  ->This would raise an AttributeError\n"
   ]
  },
  {
   "cell_type": "code",
   "execution_count": null,
   "id": "e257b0fd",
   "metadata": {},
   "outputs": [],
   "source": []
  }
 ],
 "metadata": {
  "kernelspec": {
   "display_name": "Python 3",
   "language": "python",
   "name": "python3"
  },
  "language_info": {
   "codemirror_mode": {
    "name": "ipython",
    "version": 3
   },
   "file_extension": ".py",
   "mimetype": "text/x-python",
   "name": "python",
   "nbconvert_exporter": "python",
   "pygments_lexer": "ipython3",
   "version": "3.10.8"
  }
 },
 "nbformat": 4,
 "nbformat_minor": 5
}
